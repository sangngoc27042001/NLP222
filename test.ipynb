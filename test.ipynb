{
 "cells": [
  {
   "cell_type": "code",
   "execution_count": 6,
   "metadata": {},
   "outputs": [],
   "source": [
    "from unidecode import unidecode\n",
    "\n",
    "l = \"\"\"Máy bay nào đến thành phố Huế lúc 13:30HR ?\n",
    "Máy bay nào bay từ Đà Nẵng đến TP. Hồ Chí Minh mất 1 giờ ?\n",
    "Hãy cho biết mã hiệu các máy bay hạ cánh ở Huế ?\n",
    "Máy bay nào xuất phát từ Tp.Hồ Chí Minh, lúc mấy giờ ?\n",
    "Máy bay nào bay từ TP.Hồ Chí Minh đến Hà Nội ?\n",
    "Máy bay VN4 có xuất phát từ Đà Nẵng không ?\n",
    "Thời gian máy bay VJ5 bay từ TP. Hà Nội đến Khánh Hòa mất mấy giờ ?\n",
    "Có máy bay nào xuất phát từ Hải Phòng không ?\n",
    "Máy bay của hãng hàng không VietJet Air bay đến những thành phố nào ?\n",
    "Có máy bay nào bay từ Hải Phòng đến Khánh Hòa không ?\"\"\"\n",
    "\n",
    "l = l.split('\\n')"
   ]
  },
  {
   "cell_type": "code",
   "execution_count": 7,
   "metadata": {},
   "outputs": [
    {
     "data": {
      "text/plain": [
       "['máy bay nào đến thành phố huế lúc 13:30hr ?',\n",
       " 'máy bay nào bay từ đà nẵng đến thành phố  hồ chí minh mất 1 giờ ?',\n",
       " 'hãy cho biết mã hiệu các máy bay hạ cánh ở huế ?',\n",
       " 'máy bay nào xuất phát từ thành phố hồ chí minh, lúc mấy giờ ?',\n",
       " 'máy bay nào bay từ thành phố hồ chí minh đến hà nội ?',\n",
       " 'máy bay vn4 có xuất phát từ đà nẵng không ?',\n",
       " 'thời gian máy bay vj5 bay từ thành phố  hà nội đến khánh hòa mất mấy giờ ?',\n",
       " 'có máy bay nào xuất phát từ hải phòng không ?',\n",
       " 'máy bay của hãng hàng không vietjet air bay đến những thành phố nào ?',\n",
       " 'có máy bay nào bay từ hải phòng đến khánh hòa không ?']"
      ]
     },
     "execution_count": 7,
     "metadata": {},
     "output_type": "execute_result"
    }
   ],
   "source": [
    "from utils import *\n",
    "l = [normalize_sentence(s) for s in l]\n",
    "l"
   ]
  },
  {
   "cell_type": "code",
   "execution_count": 9,
   "metadata": {},
   "outputs": [
    {
     "data": {
      "text/plain": [
       "[(0, 7, 'FLIGHT-N', 'may bay', 'máy bay'),\n",
       " (8, 11, 'QDET', 'nao', 'nào'),\n",
       " (12, 15, ['FLIGHT_END-V', 'TO-P'], 'den', 'đến'),\n",
       " (16, 25, 'CITY-N', 'thanh pho', 'thành phố'),\n",
       " (26, 29, 'CITY-NAME', 'hue', 'huế'),\n",
       " (30, 33, 'AT-P', 'luc', 'lúc'),\n",
       " (34, 41, 'FLIGHT_TIME-N', '13:30hr', '13:30hr'),\n",
       " (42, 43, 'PUNC', '?', '?')]"
      ]
     },
     "execution_count": 9,
     "metadata": {},
     "output_type": "execute_result"
    }
   ],
   "source": [
    "idx_POS_regex_list = get_idx_POS_regex_list(l[0])\n",
    "idx_POS_regex_list"
   ]
  },
  {
   "cell_type": "code",
   "execution_count": 10,
   "metadata": {},
   "outputs": [
    {
     "data": {
      "text/plain": [
       "'qdet: máy bay -> nào\\nnsubj: đến -> máy bay\\nroot: ROOT -> đến\\nnmod: huế -> thành phố\\nobl: đến -> huế\\ncase: 13:30hr -> lúc\\nobl: đến -> 13:30hr\\npunc: đến -> ?\\n'"
      ]
     },
     "execution_count": 10,
     "metadata": {},
     "output_type": "execute_result"
    }
   ],
   "source": [
    "relations = parse_dependency(idx_POS_regex_list)\n",
    "draw_relation(relations)"
   ]
  },
  {
   "cell_type": "code",
   "execution_count": 11,
   "metadata": {},
   "outputs": [
    {
     "data": {
      "text/plain": [
       "[('qdet',\n",
       "  (0, 7, 'FLIGHT-N', 'may bay', 'máy bay'),\n",
       "  (8, 11, 'QDET', 'nao', 'nào')),\n",
       " ('nsubj',\n",
       "  (12, 15, ['FLIGHT_END-V', 'TO-P'], 'den', 'đến'),\n",
       "  (0, 7, 'FLIGHT-N', 'may bay', 'máy bay')),\n",
       " ('root', 'ROOT', (12, 15, ['FLIGHT_END-V', 'TO-P'], 'den', 'đến')),\n",
       " ('nmod',\n",
       "  (26, 29, 'CITY-NAME', 'hue', 'huế'),\n",
       "  (16, 25, 'CITY-N', 'thanh pho', 'thành phố')),\n",
       " ('obl',\n",
       "  (12, 15, ['FLIGHT_END-V', 'TO-P'], 'den', 'đến'),\n",
       "  (26, 29, 'CITY-NAME', 'hue', 'huế')),\n",
       " ('case',\n",
       "  (34, 41, 'FLIGHT_TIME-N', '13:30hr', '13:30hr'),\n",
       "  (30, 33, 'AT-P', 'luc', 'lúc')),\n",
       " ('obl',\n",
       "  (12, 15, ['FLIGHT_END-V', 'TO-P'], 'den', 'đến'),\n",
       "  (34, 41, 'FLIGHT_TIME-N', '13:30hr', '13:30hr')),\n",
       " ('punc',\n",
       "  (12, 15, ['FLIGHT_END-V', 'TO-P'], 'den', 'đến'),\n",
       "  (42, 43, 'PUNC', '?', '?'))]"
      ]
     },
     "execution_count": 11,
     "metadata": {},
     "output_type": "execute_result"
    }
   ],
   "source": [
    "relations"
   ]
  },
  {
   "cell_type": "code",
   "execution_count": 7,
   "metadata": {},
   "outputs": [
    {
     "data": {
      "text/plain": [
       "'(s1 PRED \"xuất phát\")\\n(s1 LSUBJ \"máy bay\")\\n(s1 FROM \"hồ chí minh\")\\n(s1 AT-TIME \"giờ\")\\n'"
      ]
     },
     "execution_count": 7,
     "metadata": {},
     "output_type": "execute_result"
    }
   ],
   "source": [
    "def get_grammatical_relations(relations):\n",
    "    gramatical_relations = []\n",
    "\n",
    "    def add_gramatical_relations(var, gramma, word):\n",
    "        gramatical_relations.append((var, gramma, word))\n",
    "\n",
    "    root = [x for x in relations if x[0] == 'root'][0]\n",
    "    add_gramatical_relations('s1', 'PRED', root[2])\n",
    "    nsubj = [x for x in relations if x[0] == 'nsubj'][0]\n",
    "    add_gramatical_relations('s1', 'LSUBJ', nsubj[2])\n",
    "    dobj = [x for x in relations if x[0] == 'dobj']\n",
    "    if len(dobj) != 0:\n",
    "        add_gramatical_relations('s1', 'LOBJ', dobj[0][2])\n",
    "\n",
    "    obls = [x for x in relations if x[0] == 'obl']\n",
    "    for obl in obls:\n",
    "        if obl[1][2] in [['FLIGHT_END-V', 'TO-P'], 'FLIGHT_END-V']:\n",
    "            if obl[2][2] in ['CITY-NAME']:\n",
    "                add_gramatical_relations('s1', 'TO', obl[2])\n",
    "            elif obl[2][2] in ['FLIGHT_TIME-N']:\n",
    "                add_gramatical_relations('s1', 'AT-TIME', obl[2])\n",
    "            \n",
    "    \n",
    "    cases = [x for x in relations if x[0] == 'case']\n",
    "    for case in cases:\n",
    "        if case[1][2] in ['CITY-NAME', 'CITY-N']:\n",
    "            if case[2][2] in ['FROM-P']:\n",
    "                add_gramatical_relations('s1', 'FROM', case[1])\n",
    "            if case[2][2] in [['FLIGHT_END-V', 'TO-P']]:\n",
    "                add_gramatical_relations('s1', 'TO', case[1])\n",
    "        if case[1][2] in ['HOUR-N']:\n",
    "            if case[2][2] in ['AT-P']:\n",
    "                add_gramatical_relations('s1', 'AT-TIME', case[1])\n",
    "    \n",
    "    advmods = [x for x in relations if x[0] == 'advmod']\n",
    "    for advmod in advmods:\n",
    "        if advmod[2][3] == 'mat':\n",
    "            unit = [x for x in relations if x[0] == 'dobj' and x[1][3] == 'mat'][0][2][3]\n",
    "            num = [x for x in relations if x[0] == 'nummod' and x[1][3] == unit][0][2][3]\n",
    "            unit = 'HR' if unit=='gio' else unit\n",
    "            add_gramatical_relations('s1', 'TAKE', f'{num}:00{unit}')\n",
    "    \n",
    "\n",
    "    acls =   [x for x in relations if x[0] == 'acl']      \n",
    "    for acl in acls:\n",
    "        add_gramatical_relations('s2', 'LSUBJ', acl[1])\n",
    "        add_gramatical_relations('s2', 'PRED', acl[2])\n",
    "        stack_add = []\n",
    "        stack_delete = []\n",
    "        for ele in gramatical_relations:\n",
    "            if ele[1] not in ['PRED', 'LSUBJ', 'LOBJ']:\n",
    "                stack_add.append(('s2', ele[1], ele[2]))\n",
    "                stack_delete.append(ele)\n",
    "        [gramatical_relations.pop(gramatical_relations.index(ele)) for ele in stack_delete]\n",
    "        gramatical_relations += stack_add\n",
    "    \n",
    "    return gramatical_relations\n",
    "\n",
    "def draw_grammatical_relations(gramatical_relations):\n",
    "    res = \"\"\n",
    "    for i in gramatical_relations:\n",
    "        res += f'({i[0]} {i[1]} \"{i[2][4]}\")\\n'\n",
    "    return res\n",
    "\n",
    "idx_POS_regex_list = get_idx_POS_regex_list(l[3])\n",
    "relations = parse_dependency(idx_POS_regex_list)\n",
    "gramatical_relations = get_grammatical_relations(relations)\n",
    "draw_grammatical_relations(gramatical_relations)\n",
    "        "
   ]
  },
  {
   "cell_type": "code",
   "execution_count": 21,
   "metadata": {},
   "outputs": [
    {
     "data": {
      "text/plain": [
       "'WH f1: (&(FLIGHT f1)(SOURCE f1 (NAME c1 \"hồ chí minh\"))(DEST f1 (NAME c2 \"hà nội\")))\\n'"
      ]
     },
     "execution_count": 21,
     "metadata": {},
     "output_type": "execute_result"
    }
   ],
   "source": [
    "def get_logical_form(gramatical_relations, relations):\n",
    "    source = []\n",
    "    dest = []\n",
    "    run_time = []\n",
    "    arrive = []\n",
    "    depart = []\n",
    "        \n",
    "    lsubj = [x for x in gramatical_relations if x[1] == 'LSUBJ'][0]\n",
    "    try: \n",
    "        lsubj = [x for x in gramatical_relations if x[1] == 'LSUBJ'][1]\n",
    "    except:\n",
    "        pass\n",
    "    if lsubj[2][2] == 'FLIGHT-NAME':\n",
    "        flight = ['FLIGHT', lsubj[2][3]]\n",
    "    else:\n",
    "        flight = ['FLIGHT', 'f1']\n",
    "    \n",
    "    pred = [x for x in gramatical_relations if x[1] == 'PRED'][0]\n",
    "    if pred[2][2] == 'LAST-P':\n",
    "        run_time = ['RUN-TIME', 'r1', 't3']\n",
    "    \n",
    "\n",
    "\n",
    "    if 'AT-TIME' in [x[1] for x in gramatical_relations]:\n",
    "        name_time = [x[2][4] for x in gramatical_relations if x[1] == 'AT-TIME'][0]\n",
    "        pred = [x for x in gramatical_relations if x[1] == 'PRED'][0]\n",
    "        if pred[2][2] in [['FLIGHT_END-V', 'TO-P']]:\n",
    "            arrive = ['ARRIVE', 'a1', f'(NAME t2 \"{name_time}\")']\n",
    "        elif pred[2][2] == 'FLIGHT_BEGIN-V':\n",
    "            depart = ['DEPART', 'd1', f'(NAME t1 \"{name_time}\")']\n",
    "    \n",
    "    if 'TO' in [x[1] for x in gramatical_relations]:\n",
    "        name_to = [x[2][4] for x in gramatical_relations if x[1] == 'TO'][0]\n",
    "        dest = ['DEST', flight[1], f'(NAME c2 \"{name_to}\")']\n",
    "    \n",
    "    if 'FROM' in [x[1] for x in gramatical_relations]:\n",
    "        name_source = [x[2][4] for x in gramatical_relations if x[1] == 'FROM'][0]\n",
    "        source = ['SOURCE', flight[1], f'(NAME c1 \"{name_source}\")']\n",
    "    \n",
    "    if 'TAKE' in [x[1] for x in gramatical_relations]:\n",
    "        name_hour = [x[2] for x in gramatical_relations if x[1] == 'TAKE'][0]\n",
    "        run_time = ['RUN-TIME', 'r1', f'(NAME t3 \"{name_hour}\")']\n",
    "\n",
    "    #what element the question ask?\n",
    "    vars_question = []\n",
    "    try:\n",
    "        qdets = [x for x in relations if x[0] == 'qdet']\n",
    "        for qdet in qdets:\n",
    "            if qdet[1][2] == 'FLIGHT-N':\n",
    "                vars_question.append(flight[1])\n",
    "            elif qdet[1][2] == 'HOUR-N':\n",
    "                l = [depart, arrive, run_time]\n",
    "                vars_question.append(f't{1+l.index([x for x in l if x!= []][0])}')\n",
    "            elif qdet[1][2] == 'CITY-N':\n",
    "                eles = [x for x in gramatical_relations if x[1] == 'FROM']+[x for x in gramatical_relations if x[1] == 'TO']\n",
    "                for ele in eles:\n",
    "                    if ele[2][2] != 'CITY-NAME' and ele[1] == 'TO':\n",
    "                        vars_question.append('c2')\n",
    "                    elif ele[2][2] != 'CITY-NAME' and ele[1] == 'FROM':\n",
    "                        vars_question.append('c1')\n",
    "    except:\n",
    "        vars_question.append(flight[1])\n",
    "\n",
    "    if len(qdets) == 0: # yes no question\n",
    "        flight[1] = 'f1'\n",
    "        if source != []:\n",
    "            source[1] = 'f1'\n",
    "        if dest != []:\n",
    "            dest[1] = 'f1'\n",
    "        vars_question.append(flight[1])\n",
    "    \n",
    "    return [vars_question, flight, source, dest, arrive, depart, run_time]\n",
    "\n",
    "def draw_logical_form(args):\n",
    "    def list2string(l):\n",
    "        if len(l)==0:\n",
    "            return ''\n",
    "        s = ''\n",
    "        for e in l:\n",
    "            s += e + ' '\n",
    "        s = s.strip()\n",
    "        return f'({s})'\n",
    "    \n",
    "    def list2string_vars_question(l):\n",
    "        s = ''\n",
    "        for e in l:\n",
    "            s += e + ', '\n",
    "        return s[:-2]\n",
    "    vars_question, flight, source, dest, arrive, depart, run_time = args\n",
    "    return f'WH {list2string_vars_question(vars_question)}: (&{list2string(flight)}{list2string(source)}{list2string(dest)}){list2string(arrive)}{list2string(depart)}{list2string(run_time)}\\n'\n",
    "        \n",
    "idx_POS_regex_list = get_idx_POS_regex_list(l[4])\n",
    "relations = parse_dependency(idx_POS_regex_list)\n",
    "gramatical_relations = get_grammatical_relations(relations)\n",
    "logical_form_args = get_logical_form(gramatical_relations)\n",
    "draw_logical_form(logical_form_args)\n"
   ]
  },
  {
   "cell_type": "code",
   "execution_count": 31,
   "metadata": {},
   "outputs": [
    {
     "data": {
      "text/plain": [
       "'(PRINT-ALL ?f1 (FLIGHT ?f1) (DTIME ?f1 HP ?t1) (ATIME ?f1 KH ?t2) (RUN-TIME ?f1 HP KH ?t3))\\n'"
      ]
     },
     "execution_count": 31,
     "metadata": {},
     "output_type": "execute_result"
    }
   ],
   "source": [
    "def get_procedural_sematic(logical_form_args):\n",
    "    vars_question, flight, source, dest, arrive, depart, run_time = logical_form_args\n",
    "\n",
    "    Flight = []\n",
    "    Atime = []\n",
    "    Dtime = []\n",
    "    Runtime = []\n",
    "\n",
    "    pattern = re.compile('(vn|vj)\\d')\n",
    "    Flight = ['FLIGHT', flight[1].upper() if pattern.match(flight[1]) else '?f1']\n",
    "\n",
    "    #handle Dtime\n",
    "    city1 = '?c1'\n",
    "    time1 = '?t1'\n",
    "    if len(source) != 0:\n",
    "        name_city = source[2].split('\"')[1]\n",
    "        cities_vietnam = ['hồ chí minh', 'huế', 'hà nội', 'đà nẵng', 'hải phòng', 'khánh hòa']\n",
    "        city_codes = ['HCMC', 'HUE', 'HN', 'ĐN', 'HP', 'KH']\n",
    "        if name_city in cities_vietnam:\n",
    "            city1 = city_codes[cities_vietnam.index(name_city)]\n",
    "    if len(depart) != 0:\n",
    "        name_hour = depart[2].split('\"')[1].upper()\n",
    "        pattern = re.compile(\"\\d+:\\d+HR\")\n",
    "        if pattern.match(name_hour):\n",
    "            time1 = name_hour\n",
    "    Dtime = ['DTIME', Flight[1], city1, time1]    \n",
    "    \n",
    "    #handle Atime\n",
    "    city2 = '?c2'\n",
    "    time2 = '?t2'\n",
    "    if len(dest) != 0:\n",
    "        name_city = dest[2].split('\"')[1]\n",
    "        cities_vietnam = ['hồ chí minh', 'huế', 'hà nội', 'đà nẵng', 'hải phòng', 'khánh hòa']\n",
    "        city_codes = ['HCMC', 'HUE', 'HN', 'ĐN', 'HP', 'KH']\n",
    "        if name_city in cities_vietnam:\n",
    "            city2 = city_codes[cities_vietnam.index(name_city)]\n",
    "    if len(arrive) != 0:\n",
    "        name_hour = arrive[2].split('\"')[1].upper()\n",
    "        pattern = re.compile(\"\\d+:\\d+HR\")\n",
    "        if pattern.match(name_hour):\n",
    "            time2 = name_hour\n",
    "    Atime = ['ATIME', Flight[1], city2, time2]\n",
    "\n",
    "    time3 = '?t3'\n",
    "    if len(run_time) != 0:\n",
    "        name_hour = run_time[2] if run_time[2]=='t3' else run_time[2].split('\"')[1].upper()\n",
    "        pattern = re.compile(\"\\d+:\\d+HR\")\n",
    "        if pattern.match(name_hour):\n",
    "            time3 = name_hour\n",
    "    Runtime = ['RUN-TIME', Flight[1], city1, city2, time3]\n",
    "\n",
    "    vars_question = [f'?{x}' for x in vars_question]\n",
    "\n",
    "    \n",
    "    return [vars_question, Flight, Atime, Dtime, Runtime]\n",
    "\n",
    "def draw_procedural_sematic(procedural_sematic_res):\n",
    "    def list2string(l, f=0):\n",
    "        if all(x[0]=='?' for x in l[1:]) and f == 0:\n",
    "            return ''\n",
    "        if f == 2:\n",
    "            if not all(x[0]!='?' for x in l[2:-1]):\n",
    "                return ''\n",
    "        s = ''\n",
    "        for e in l:\n",
    "            s += e + ' '\n",
    "        s = s.strip()\n",
    "        return f'({s})'\n",
    "    \n",
    "    def list2string_vars_question(l):\n",
    "        s = ''\n",
    "        for e in l:\n",
    "            s += e + ', '\n",
    "        return s[:-2]\n",
    "    vars_question, Flight, Atime, Dtime, Runtime = procedural_sematic_res\n",
    "    res = f'(PRINT-ALL {list2string_vars_question(vars_question)} {list2string(Flight, 1)} {list2string(Dtime)} {list2string(Atime)} {list2string(Runtime,2)})\\n'\n",
    "    res = f\"{re.sub(' +', ' ',res).strip()}\\n\"\n",
    "    return res\n",
    "\n",
    "idx_POS_regex_list = get_idx_POS_regex_list(l[9])\n",
    "relations = parse_dependency(idx_POS_regex_list)\n",
    "gramatical_relations = get_grammatical_relations(relations)\n",
    "logical_form_res = get_logical_form(gramatical_relations)      \n",
    "procedural_sematic_res = get_procedural_sematic(logical_form_res)\n",
    "draw_procedural_sematic(procedural_sematic_res)"
   ]
  },
  {
   "cell_type": "code",
   "execution_count": 11,
   "metadata": {},
   "outputs": [
    {
     "data": {
      "text/plain": [
       "[['?f1'],\n",
       " ['FLIGHT', '?f1'],\n",
       " ['ATIME', '?f1', 'KH', '?t2'],\n",
       " ['DTIME', '?f1', 'HP', '?t1'],\n",
       " ['RUN-TIME', '?f1', 'HP', 'KH', '?t3']]"
      ]
     },
     "execution_count": 11,
     "metadata": {},
     "output_type": "execute_result"
    }
   ],
   "source": [
    "procedural_sematic_res"
   ]
  },
  {
   "cell_type": "code",
   "execution_count": 12,
   "metadata": {},
   "outputs": [],
   "source": [
    "db = open('input/database.txt', 'r',  encoding=\"utf8\").read()\n",
    "db = [a.strip().replace('(','').replace(')','').split(' ') for a in db.split('\\n')]"
   ]
  },
  {
   "cell_type": "code",
   "execution_count": 25,
   "metadata": {},
   "outputs": [],
   "source": [
    "def retrieve_database(procedural_sematic_res):\n",
    "    global db\n",
    "    vars_question, Flight, Atime, Dtime, Runtime = procedural_sematic_res\n",
    "\n",
    "    def no_consts(cond, is_runtime = 0):\n",
    "        a = len ([x for x in cond if x[0]=='?'])\n",
    "        return 4 - a if is_runtime else 3 - a\n",
    "    \n",
    "    def match(cond_db, cond_query):\n",
    "        if len(cond_db) != len(cond_query):\n",
    "            return False\n",
    "        for idx in range(len(cond_db)):\n",
    "            if cond_query[idx][0] !='?':\n",
    "                if cond_query[idx] != cond_db[idx]:\n",
    "                    return False\n",
    "        return True\n",
    "    \n",
    "    num_of_const = [no_consts(Dtime), no_consts(Atime), no_consts(Runtime, 1)]\n",
    "\n",
    "    idx_handle = num_of_const.index(max(num_of_const))\n",
    "    matches=[]\n",
    "\n",
    "    if idx_handle == 0: #handle DTime\n",
    "        matches = [x for x in db if match(x, Dtime)]\n",
    "    if idx_handle == 1: #handle ATime\n",
    "        matches = [x for x in db if match(x, Atime)]\n",
    "    if idx_handle == 2: #handle RumTime\n",
    "        matches = [x for x in db if match(x, Runtime)]\n",
    "\n",
    "    #handle vars_question\n",
    "    answers_dict = {}\n",
    "    for var in vars_question:\n",
    "        answer = set()\n",
    "        if var == '?f1':\n",
    "            for a in [x[1] for x in matches]:\n",
    "                answer.add(a)\n",
    "        if var == '?t1':\n",
    "            for a in [x[3] for x in matches if x[0]=='DTIME']:\n",
    "                answer.add(a)\n",
    "        if var == '?t2':\n",
    "            for a in [x[3] for x in matches if x[0]=='ATIME']:\n",
    "                answer.add(a)\n",
    "        if var == '?t3':\n",
    "            for a in [x[4] for x in matches if x[0]=='RUN-TIME']:\n",
    "                answer.add(a)\n",
    "        answers_dict.update({var:list(answer)})\n",
    "    \n",
    "    return answers_dict\n",
    "\n",
    "def draw_answer(answers_dict):\n",
    "    def list2string_vars_question(l):\n",
    "        s = ''\n",
    "        for e in l:\n",
    "            s += e + ', '\n",
    "        return s[:-2]\n",
    "    res = ''\n",
    "    for key in answers_dict.keys():\n",
    "        keys1 = ['?f1', '?t1', '?t2', '?t3']\n",
    "        keys2 = ['Flights', 'Depart Time', 'Arrive Time', 'Run Time']\n",
    "        res += f'{keys2[keys1.index(key)]}: {list2string_vars_question(answers_dict[key])}\\n'\n",
    "    return res\n",
    "\n",
    "\n"
   ]
  },
  {
   "cell_type": "code",
   "execution_count": 1,
   "metadata": {},
   "outputs": [],
   "source": [
    "from utils import *\n",
    "l = \"\"\"Máy bay nào đến thành phố Huế lúc 13:30HR ?\n",
    "Máy bay nào bay từ Đà Nẵng đến TP. Hồ Chí Minh mất 1 giờ ?\n",
    "Hãy cho biết mã hiệu các máy bay hạ cánh ở Huế ?\n",
    "Máy bay nào xuất phát từ Tp.Hồ Chí Minh, lúc mấy giờ ?\n",
    "Máy bay nào bay từ TP.Hồ Chí Minh đến Hà Nội ?\n",
    "Máy bay VN4 có xuất phát từ Đà Nẵng không ?\n",
    "Thời gian máy bay VJ5 bay từ TP. Hà Nội đến Khánh Hòa mất mấy giờ ?\n",
    "Có máy bay nào xuất phát từ Hải Phòng không ?\n",
    "Máy bay của hãng hàng không VietJet Air bay đến những thành phố nào ?\n",
    "Có máy bay nào bay từ Hải Phòng đến Khánh Hòa không ?\"\"\"\n",
    "\n",
    "l = l.split('\\n')\n",
    "l = [normalize_sentence(s) for s in l]\n",
    "\n",
    "db = open('input/database.txt', 'r',  encoding=\"utf8\").read()\n",
    "db = [a.strip().replace('(','').replace(')','').split(' ') for a in db.split('\\n')]"
   ]
  },
  {
   "cell_type": "code",
   "execution_count": 3,
   "metadata": {},
   "outputs": [
    {
     "name": "stdout",
     "output_type": "stream",
     "text": [
      "qdet: máy bay -> nào\n",
      "nsubj: đến -> máy bay\n",
      "root: ROOT -> đến\n",
      "nmod: huế -> thành phố\n",
      "obl: đến -> huế\n",
      "case: 13:30hr -> lúc\n",
      "obl: đến -> 13:30hr\n",
      "punc: đến -> ?\n",
      "\n",
      "(s1 PRED \"đến\")\n",
      "(s1 LSUBJ \"máy bay\")\n",
      "(s1 TO \"huế\")\n",
      "(s1 AT-TIME \"13:30hr\")\n",
      "\n",
      "WH f1: (&(FLIGHT f1)(DEST f1 (NAME c2 \"huế\")))(ARRIVE a1 (NAME t2 \"13:30hr\"))\n",
      "\n",
      "(PRINT-ALL ?f1 (FLIGHT ?f1) (ATIME ?f1 HUE 13:30HR) )\n",
      "\n",
      "Flights: VJ1\n",
      "\n"
     ]
    }
   ],
   "source": [
    "idx_POS_regex_list = get_idx_POS_regex_list(l[0])\n",
    "relations = parse_dependency(idx_POS_regex_list)\n",
    "gramatical_relations = get_grammatical_relations(relations)\n",
    "logical_form_res = get_logical_form(gramatical_relations, relations)      \n",
    "procedural_sematic_res = get_procedural_sematic(logical_form_res)\n",
    "answers_dict = retrieve_database(procedural_sematic_res, db) \n",
    "\n",
    "print(draw_relation(relations))\n",
    "print(draw_grammatical_relations(gramatical_relations))\n",
    "print(draw_logical_form(logical_form_res))\n",
    "print(draw_procedural_sematic(procedural_sematic_res))\n",
    "print(draw_answer(answers_dict))"
   ]
  },
  {
   "cell_type": "code",
   "execution_count": 27,
   "metadata": {},
   "outputs": [
    {
     "data": {
      "text/plain": [
       "'output_query_   1'"
      ]
     },
     "execution_count": 27,
     "metadata": {},
     "output_type": "execute_result"
    }
   ],
   "source": [
    "\"output_query_{:4d}\".format(1)"
   ]
  }
 ],
 "metadata": {
  "kernelspec": {
   "display_name": "Python 3",
   "language": "python",
   "name": "python3"
  },
  "language_info": {
   "codemirror_mode": {
    "name": "ipython",
    "version": 3
   },
   "file_extension": ".py",
   "mimetype": "text/x-python",
   "name": "python",
   "nbconvert_exporter": "python",
   "pygments_lexer": "ipython3",
   "version": "3.8.5"
  },
  "orig_nbformat": 4
 },
 "nbformat": 4,
 "nbformat_minor": 2
}
